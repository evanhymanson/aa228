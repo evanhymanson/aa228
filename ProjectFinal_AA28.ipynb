{
 "cells": [
  {
   "attachments": {},
   "cell_type": "markdown",
   "metadata": {},
   "source": [
    "# Q-Learning "
   ]
  },
  {
   "cell_type": "code",
   "execution_count": 34,
   "metadata": {},
   "outputs": [
    {
     "data": {
      "text/html": [
       "<div><div style = \"float: left;\"><span>1433578×4 DataFrame</span></div><div style = \"float: right;\"><span style = \"font-style: italic;\">1433553 rows omitted</span></div><div style = \"clear: both;\"></div></div><div class = \"data-frame\" style = \"overflow-x: scroll;\"><table class = \"data-frame\" style = \"margin-bottom: 6px;\"><thead><tr class = \"header\"><th class = \"rowNumber\" style = \"font-weight: bold; text-align: right;\">Row</th><th style = \"text-align: left;\">s</th><th style = \"text-align: left;\">a</th><th style = \"text-align: left;\">r</th><th style = \"text-align: left;\">sp</th></tr><tr class = \"subheader headerLastRow\"><th class = \"rowNumber\" style = \"font-weight: bold; text-align: right;\"></th><th title = \"Int64\" style = \"text-align: left;\">Int64</th><th title = \"Int64\" style = \"text-align: left;\">Int64</th><th title = \"Float64\" style = \"text-align: left;\">Float64</th><th title = \"Int64\" style = \"text-align: left;\">Int64</th></tr></thead><tbody><tr><td class = \"rowNumber\" style = \"font-weight: bold; text-align: right;\">1</td><td style = \"text-align: right;\">1</td><td style = \"text-align: right;\">5</td><td style = \"text-align: right;\">2.5</td><td style = \"text-align: right;\">9</td></tr><tr><td class = \"rowNumber\" style = \"font-weight: bold; text-align: right;\">2</td><td style = \"text-align: right;\">9</td><td style = \"text-align: right;\">5</td><td style = \"text-align: right;\">2.5</td><td style = \"text-align: right;\">17</td></tr><tr><td class = \"rowNumber\" style = \"font-weight: bold; text-align: right;\">3</td><td style = \"text-align: right;\">17</td><td style = \"text-align: right;\">5</td><td style = \"text-align: right;\">2.5</td><td style = \"text-align: right;\">17</td></tr><tr><td class = \"rowNumber\" style = \"font-weight: bold; text-align: right;\">4</td><td style = \"text-align: right;\">17</td><td style = \"text-align: right;\">5</td><td style = \"text-align: right;\">-2.0</td><td style = \"text-align: right;\">41</td></tr><tr><td class = \"rowNumber\" style = \"font-weight: bold; text-align: right;\">5</td><td style = \"text-align: right;\">41</td><td style = \"text-align: right;\">2</td><td style = \"text-align: right;\">-2.0</td><td style = \"text-align: right;\">65</td></tr><tr><td class = \"rowNumber\" style = \"font-weight: bold; text-align: right;\">6</td><td style = \"text-align: right;\">65</td><td style = \"text-align: right;\">5</td><td style = \"text-align: right;\">-10.0</td><td style = \"text-align: right;\">385</td></tr><tr><td class = \"rowNumber\" style = \"font-weight: bold; text-align: right;\">7</td><td style = \"text-align: right;\">1</td><td style = \"text-align: right;\">5</td><td style = \"text-align: right;\">-2.0</td><td style = \"text-align: right;\">25</td></tr><tr><td class = \"rowNumber\" style = \"font-weight: bold; text-align: right;\">8</td><td style = \"text-align: right;\">25</td><td style = \"text-align: right;\">4</td><td style = \"text-align: right;\">-10.0</td><td style = \"text-align: right;\">385</td></tr><tr><td class = \"rowNumber\" style = \"font-weight: bold; text-align: right;\">9</td><td style = \"text-align: right;\">195</td><td style = \"text-align: right;\">5</td><td style = \"text-align: right;\">-2.0</td><td style = \"text-align: right;\">219</td></tr><tr><td class = \"rowNumber\" style = \"font-weight: bold; text-align: right;\">10</td><td style = \"text-align: right;\">219</td><td style = \"text-align: right;\">5</td><td style = \"text-align: right;\">-2.0</td><td style = \"text-align: right;\">243</td></tr><tr><td class = \"rowNumber\" style = \"font-weight: bold; text-align: right;\">11</td><td style = \"text-align: right;\">243</td><td style = \"text-align: right;\">5</td><td style = \"text-align: right;\">-10.0</td><td style = \"text-align: right;\">385</td></tr><tr><td class = \"rowNumber\" style = \"font-weight: bold; text-align: right;\">12</td><td style = \"text-align: right;\">197</td><td style = \"text-align: right;\">13</td><td style = \"text-align: right;\">2.5</td><td style = \"text-align: right;\">205</td></tr><tr><td class = \"rowNumber\" style = \"font-weight: bold; text-align: right;\">13</td><td style = \"text-align: right;\">205</td><td style = \"text-align: right;\">5</td><td style = \"text-align: right;\">2.5</td><td style = \"text-align: right;\">213</td></tr><tr><td style = \"text-align: right;\">&vellip;</td><td style = \"text-align: right;\">&vellip;</td><td style = \"text-align: right;\">&vellip;</td><td style = \"text-align: right;\">&vellip;</td><td style = \"text-align: right;\">&vellip;</td></tr><tr><td class = \"rowNumber\" style = \"font-weight: bold; text-align: right;\">1433567</td><td style = \"text-align: right;\">105</td><td style = \"text-align: right;\">4</td><td style = \"text-align: right;\">2.5</td><td style = \"text-align: right;\">113</td></tr><tr><td class = \"rowNumber\" style = \"font-weight: bold; text-align: right;\">1433568</td><td style = \"text-align: right;\">113</td><td style = \"text-align: right;\">8</td><td style = \"text-align: right;\">-2.0</td><td style = \"text-align: right;\">137</td></tr><tr><td class = \"rowNumber\" style = \"font-weight: bold; text-align: right;\">1433569</td><td style = \"text-align: right;\">137</td><td style = \"text-align: right;\">8</td><td style = \"text-align: right;\">2.5</td><td style = \"text-align: right;\">385</td></tr><tr><td class = \"rowNumber\" style = \"font-weight: bold; text-align: right;\">1433570</td><td style = \"text-align: right;\">289</td><td style = \"text-align: right;\">2</td><td style = \"text-align: right;\">-2.0</td><td style = \"text-align: right;\">313</td></tr><tr><td class = \"rowNumber\" style = \"font-weight: bold; text-align: right;\">1433571</td><td style = \"text-align: right;\">313</td><td style = \"text-align: right;\">2</td><td style = \"text-align: right;\">2.5</td><td style = \"text-align: right;\">321</td></tr><tr><td class = \"rowNumber\" style = \"font-weight: bold; text-align: right;\">1433572</td><td style = \"text-align: right;\">321</td><td style = \"text-align: right;\">8</td><td style = \"text-align: right;\">-10.0</td><td style = \"text-align: right;\">385</td></tr><tr><td class = \"rowNumber\" style = \"font-weight: bold; text-align: right;\">1433573</td><td style = \"text-align: right;\">289</td><td style = \"text-align: right;\">8</td><td style = \"text-align: right;\">2.5</td><td style = \"text-align: right;\">297</td></tr><tr><td class = \"rowNumber\" style = \"font-weight: bold; text-align: right;\">1433574</td><td style = \"text-align: right;\">297</td><td style = \"text-align: right;\">2</td><td style = \"text-align: right;\">2.5</td><td style = \"text-align: right;\">305</td></tr><tr><td class = \"rowNumber\" style = \"font-weight: bold; text-align: right;\">1433575</td><td style = \"text-align: right;\">305</td><td style = \"text-align: right;\">8</td><td style = \"text-align: right;\">-2.0</td><td style = \"text-align: right;\">329</td></tr><tr><td class = \"rowNumber\" style = \"font-weight: bold; text-align: right;\">1433576</td><td style = \"text-align: right;\">329</td><td style = \"text-align: right;\">8</td><td style = \"text-align: right;\">2.5</td><td style = \"text-align: right;\">385</td></tr><tr><td class = \"rowNumber\" style = \"font-weight: bold; text-align: right;\">1433577</td><td style = \"text-align: right;\">97</td><td style = \"text-align: right;\">13</td><td style = \"text-align: right;\">-2.0</td><td style = \"text-align: right;\">121</td></tr><tr><td class = \"rowNumber\" style = \"font-weight: bold; text-align: right;\">1433578</td><td style = \"text-align: right;\">121</td><td style = \"text-align: right;\">13</td><td style = \"text-align: right;\">-10.0</td><td style = \"text-align: right;\">385</td></tr></tbody></table></div>"
      ],
      "text/latex": [
       "\\begin{tabular}{r|cccc}\n",
       "\t& s & a & r & sp\\\\\n",
       "\t\\hline\n",
       "\t& Int64 & Int64 & Float64 & Int64\\\\\n",
       "\t\\hline\n",
       "\t1 & 1 & 5 & 2.5 & 9 \\\\\n",
       "\t2 & 9 & 5 & 2.5 & 17 \\\\\n",
       "\t3 & 17 & 5 & 2.5 & 17 \\\\\n",
       "\t4 & 17 & 5 & -2.0 & 41 \\\\\n",
       "\t5 & 41 & 2 & -2.0 & 65 \\\\\n",
       "\t6 & 65 & 5 & -10.0 & 385 \\\\\n",
       "\t7 & 1 & 5 & -2.0 & 25 \\\\\n",
       "\t8 & 25 & 4 & -10.0 & 385 \\\\\n",
       "\t9 & 195 & 5 & -2.0 & 219 \\\\\n",
       "\t10 & 219 & 5 & -2.0 & 243 \\\\\n",
       "\t11 & 243 & 5 & -10.0 & 385 \\\\\n",
       "\t12 & 197 & 13 & 2.5 & 205 \\\\\n",
       "\t13 & 205 & 5 & 2.5 & 213 \\\\\n",
       "\t14 & 213 & 2 & 2.5 & 385 \\\\\n",
       "\t15 & 5 & 5 & -2.0 & 29 \\\\\n",
       "\t16 & 29 & 5 & 2.5 & 37 \\\\\n",
       "\t17 & 37 & 5 & 2.5 & 45 \\\\\n",
       "\t18 & 45 & 5 & 2.5 & 45 \\\\\n",
       "\t19 & 45 & 4 & 2.5 & 385 \\\\\n",
       "\t20 & 97 & 13 & -2.0 & 121 \\\\\n",
       "\t21 & 121 & 4 & -10.0 & 385 \\\\\n",
       "\t22 & 291 & 5 & 2.5 & 299 \\\\\n",
       "\t23 & 299 & 2 & -2.0 & 323 \\\\\n",
       "\t24 & 323 & 4 & 2.5 & 331 \\\\\n",
       "\t25 & 331 & 4 & -10.0 & 385 \\\\\n",
       "\t26 & 98 & 2 & -2.0 & 122 \\\\\n",
       "\t27 & 122 & 4 & 2.5 & 130 \\\\\n",
       "\t28 & 130 & 5 & 2.5 & 138 \\\\\n",
       "\t29 & 138 & 2 & -2.0 & 162 \\\\\n",
       "\t30 & 162 & 4 & 2.5 & 385 \\\\\n",
       "\t$\\dots$ & $\\dots$ & $\\dots$ & $\\dots$ & $\\dots$ \\\\\n",
       "\\end{tabular}\n"
      ],
      "text/plain": [
       "\u001b[1m1433578×4 DataFrame\u001b[0m\n",
       "\u001b[1m     Row \u001b[0m│\u001b[1m s     \u001b[0m\u001b[1m a     \u001b[0m\u001b[1m r       \u001b[0m\u001b[1m sp    \u001b[0m\n",
       "         │\u001b[90m Int64 \u001b[0m\u001b[90m Int64 \u001b[0m\u001b[90m Float64 \u001b[0m\u001b[90m Int64 \u001b[0m\n",
       "─────────┼──────────────────────────────\n",
       "       1 │     1      5      2.5      9\n",
       "       2 │     9      5      2.5     17\n",
       "       3 │    17      5      2.5     17\n",
       "       4 │    17      5     -2.0     41\n",
       "       5 │    41      2     -2.0     65\n",
       "       6 │    65      5    -10.0    385\n",
       "       7 │     1      5     -2.0     25\n",
       "       8 │    25      4    -10.0    385\n",
       "       9 │   195      5     -2.0    219\n",
       "      10 │   219      5     -2.0    243\n",
       "      11 │   243      5    -10.0    385\n",
       "    ⋮    │   ⋮      ⋮       ⋮       ⋮\n",
       " 1433569 │   137      8      2.5    385\n",
       " 1433570 │   289      2     -2.0    313\n",
       " 1433571 │   313      2      2.5    321\n",
       " 1433572 │   321      8    -10.0    385\n",
       " 1433573 │   289      8      2.5    297\n",
       " 1433574 │   297      2      2.5    305\n",
       " 1433575 │   305      8     -2.0    329\n",
       " 1433576 │   329      8      2.5    385\n",
       " 1433577 │    97     13     -2.0    121\n",
       " 1433578 │   121     13    -10.0    385\n",
       "\u001b[36m                    1433557 rows omitted\u001b[0m"
      ]
     },
     "execution_count": 34,
     "metadata": {},
     "output_type": "execute_result"
    }
   ],
   "source": [
    "using CSV\n",
    "using DataFrames \n",
    "using Printf\n",
    "using LinearAlgebra \n",
    "using Distributions \n",
    "using Tables\n",
    "\n",
    "df = CSV.read(\"pitchData.csv\", DataFrame)\n",
    "y2df = first(df,1433578)"
   ]
  },
  {
   "cell_type": "code",
   "execution_count": 36,
   "metadata": {},
   "outputs": [
    {
     "data": {
      "text/plain": [
       "\"QLearn_pitch2.csv\""
      ]
     },
     "execution_count": 36,
     "metadata": {},
     "output_type": "execute_result"
    }
   ],
   "source": [
    "\n",
    "\n",
    "# Algorithm 17.2: Q-learning Algorithm\n",
    "mutable struct QLearning\n",
    "    𝒮 # state space (assumes 1:nstates)\n",
    "    𝒜 # action space (assumes 1:nactions)\n",
    "    γ # discount\n",
    "    Q # action value function\n",
    "    α # learning rate\n",
    "end\n",
    "\n",
    "lookahead(model::QLearning, s, a) = model.Q[s,a]\n",
    "\n",
    "function update!(model::QLearning, s, a, r, s′) \n",
    "    γ, Q, α = model.γ, model.Q, model.α\n",
    "    Q[s,a] += α*(r + γ*maximum(Q[s′,:]) - Q[s,a]) \n",
    "    return model\n",
    "end\n",
    "\n",
    "# Q learning parameters\n",
    "S = 385\n",
    "A = 16\n",
    "γ = 0.95\n",
    "α = .001\n",
    "Q = zeros(Float64, (S,A))\n",
    "\n",
    "model = QLearning(S, A, γ, Q, α)\n",
    "\n",
    "# Update Q matrix with iteration\n",
    "\n",
    "for i in 1:5\n",
    "    for j in 1:size(y2df)[1]\n",
    "        update!(model, y2df[j,1], y2df[j,2], y2df[j,3], y2df[j,4]) \n",
    "    end \n",
    "end \n",
    "\n",
    "# Policy Extraction\n",
    "# Initialize\n",
    "Policy = zeros(Int64, (S,1))\n",
    "\n",
    "for i in 1:S\n",
    "    Policy[i] = findmax(Q[i,:])[2]\n",
    "end\n",
    "\n",
    "# Write to CSV file\n",
    "CSV.write(\"QLearn_pitch2.csv\", Tables.table(Policy), writeheader = false)"
   ]
  },
  {
   "attachments": {},
   "cell_type": "markdown",
   "metadata": {},
   "source": [
    "## Sarsa "
   ]
  },
  {
   "cell_type": "code",
   "execution_count": 40,
   "metadata": {},
   "outputs": [
    {
     "data": {
      "text/plain": [
       "\"Sarsa_pitch1.csv\""
      ]
     },
     "execution_count": 40,
     "metadata": {},
     "output_type": "execute_result"
    }
   ],
   "source": [
    "\n",
    "using CSV\n",
    "using DataFrames \n",
    "using DataStructures\n",
    "using Printf\n",
    "using LinearAlgebra \n",
    "using Distributions \n",
    "using Tables\n",
    "\n",
    "df = CSV.read(\"pitchData.csv\", DataFrame)\n",
    "y1df = first(df,716788)\n",
    "\n",
    "mutable struct Sarsa\n",
    "    𝒮 # state space (assumes 1:nstates)\n",
    "    𝒜 # action space (assumes 1:nactions)\n",
    "    γ # discount\n",
    "    Q # action value function\n",
    "    α # learning rate\n",
    "    ℓ # most recent experience tuple (s,a,r)\n",
    "end\n",
    "lookahead(model::Sarsa, s, a) = model.Q[s,a]\n",
    "\n",
    "# Sarsa learning parameters\n",
    "S = 385\n",
    "A = 16\n",
    "\n",
    "γ = 0.95\n",
    "α = .001\n",
    "SarsaQ = zeros(Float64, (S,A));\n",
    "\n",
    "\n",
    "SarsaModel = Sarsa(S,A,γ,SarsaQ,α,nothing)\n",
    "\n",
    "function update!(model::Sarsa, s, a, r, s′)\n",
    "    if model.ℓ != nothing\n",
    "        γ, Q, α, ℓ = model.γ, model.Q, model.α,  model.ℓ\n",
    "        model.Q[ℓ.s,ℓ.a] += α*(ℓ.r + γ*Q[s,a] - Q[ℓ.s,ℓ.a])\n",
    "    end\n",
    "    model.ℓ = (s=s, a=a, r=r)\n",
    "    return model\n",
    "\n",
    "end\n",
    "\n",
    "for i in 1:5\n",
    "    for j in 1:size(y1df)[1]\n",
    "        update!(SarsaModel, y1df[j,1], y1df[j,2], y1df[j,3], y1df[j,4]) \n",
    "    end\n",
    "end\n",
    "\n",
    "# Policy Extraction\n",
    "# Initialize\n",
    "SarsaPolicy = zeros(Int64, (S,1))\n",
    "\n",
    "for i in 1:S\n",
    "    SarsaPolicy[i] = findmax(SarsaQ[i,:])[2]\n",
    "end\n",
    "\n",
    "# Write to CSV file\n",
    "CSV.write(\"Sarsa_pitch1.csv\", Tables.table(SarsaPolicy), writeheader = false)\n",
    "\n"
   ]
  },
  {
   "attachments": {},
   "cell_type": "markdown",
   "metadata": {},
   "source": [
    "## SarsaLambda"
   ]
  },
  {
   "cell_type": "code",
   "execution_count": 41,
   "metadata": {},
   "outputs": [
    {
     "data": {
      "text/plain": [
       "\"SarsaLamda_pitch.policy\""
      ]
     },
     "execution_count": 41,
     "metadata": {},
     "output_type": "execute_result"
    }
   ],
   "source": [
    "\n",
    "\n",
    "\n",
    "\n",
    "## SarsaLambda\n",
    "mutable struct SarsaLambda\n",
    "    𝒮 # state space (assumes 1:nstates)\n",
    "    𝒜 # action space (assumes 1:nactions)\n",
    "    γ # discount\n",
    "    Q # action value function\n",
    "    N # trace\n",
    "    α # learning rate\n",
    "    λ # trace decay rate\n",
    "    ℓ # most recent experience tuple (s,a,r)\n",
    "end\n",
    "\n",
    "# Sarsa learning parameters\n",
    "S = 385\n",
    "A = 16\n",
    "\n",
    "γ = 0.95\n",
    "α = .001\n",
    "SarsaLQ = zeros(Float64, (S,A));\n",
    "\n",
    "lookahead(model::SarsaLambda, s, a) = model.Q[s,a]\n",
    "\n",
    "function update!(model::SarsaLambda, s, a, r, s′)\n",
    "    if model.ℓ != nothing\n",
    "        γ, λ, Q, α, ℓ = model.γ, model.λ, model.Q, model.α, model.ℓ\n",
    "        model.N[ℓ.s,ℓ.a] += 1\n",
    "        δ = ℓ.r + γ*Q[s,a] - Q[ℓ.s,ℓ.a]\n",
    "        for s in model.𝒮\n",
    "            for a in model.𝒜\n",
    "                model.Q[s,a] += α*δ*model.N[s,a]\n",
    "                model.N[s,a] *= γ*λ\n",
    "            end\n",
    "        end\n",
    "    else\n",
    "    \tmodel.N[:,:] .= 0.0\n",
    "    end\n",
    "    model.ℓ = (s=s, a=a, r=r)\n",
    "    return model\n",
    "end\n",
    "\n",
    "N = zeros(S,A)\n",
    "\n",
    "SarsaLamdaModel = SarsaLambda(S,A,γ,SarsaLQ, N , α, .5, nothing)\n",
    "\n",
    "for i in 1:5\n",
    "    for j in 1:size(df)[1]\n",
    "        update!(SarsaLamdaModel, df[j,1], df[j,2], df[j,3], df[j,4]) \n",
    "    end\n",
    "end\n",
    "\n",
    "# Policy Extraction\n",
    "# Initialize\n",
    "SarsaLamdaPolicy = zeros(Int64, (S,1))\n",
    "\n",
    "for i in 1:S\n",
    "    SarsaLamdaPolicy[i] = findmax(SarsaLQ[i,:])[2]\n",
    "end\n",
    "\n",
    "# Write to CSV file\n",
    "CSV.write(\"SarsaLamda_pitch.policy\", Tables.table(SarsaLamdaPolicy), writeheader = false)\n"
   ]
  },
  {
   "cell_type": "code",
   "execution_count": null,
   "metadata": {},
   "outputs": [],
   "source": []
  }
 ],
 "metadata": {
  "kernelspec": {
   "display_name": "Julia 1.8.5",
   "language": "julia",
   "name": "julia-1.8"
  },
  "language_info": {
   "file_extension": ".jl",
   "mimetype": "application/julia",
   "name": "julia",
   "version": "1.8.5"
  },
  "orig_nbformat": 4
 },
 "nbformat": 4,
 "nbformat_minor": 2
}
